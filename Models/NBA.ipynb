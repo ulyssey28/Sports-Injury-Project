{
 "cells": [
  {
   "cell_type": "code",
   "execution_count": 1,
   "metadata": {},
   "outputs": [
    {
     "name": "stderr",
     "output_type": "stream",
     "text": [
      "C:\\Users\\ulyss\\Anaconda3\\lib\\site-packages\\sklearn\\ensemble\\weight_boosting.py:29: DeprecationWarning: numpy.core.umath_tests is an internal NumPy module and should not be imported. It will be removed in a future NumPy release.\n",
      "  from numpy.core.umath_tests import inner1d\n"
     ]
    }
   ],
   "source": [
    "%matplotlib inline\n",
    "import matplotlib.pyplot as plt\n",
    "import numpy as np\n",
    "import pandas as pd\n",
    "import warnings\n",
    "warnings.filterwarnings('ignore')\n",
    "\n",
    "from sklearn.linear_model import LogisticRegression\n",
    "from sklearn.model_selection import train_test_split\n",
    "from sklearn.preprocessing import StandardScaler\n",
    "from sklearn.neighbors import KNeighborsClassifier\n",
    "from sklearn.metrics import confusion_matrix\n",
    "from sklearn.metrics import f1_score\n",
    "from sklearn.metrics import accuracy_score\n",
    "\n",
    "\n",
    "\n",
    "\n",
    "from sklearn.model_selection import KFold, cross_val_score\n",
    "from sklearn.model_selection import train_test_split, GridSearchCV\n",
    "\n",
    "from sklearn.ensemble import RandomForestClassifier\n",
    "import math"
   ]
  },
  {
   "cell_type": "code",
   "execution_count": null,
   "metadata": {},
   "outputs": [],
   "source": []
  },
  {
   "cell_type": "code",
   "execution_count": 2,
   "metadata": {},
   "outputs": [
    {
     "data": {
      "text/html": [
       "<div>\n",
       "<style scoped>\n",
       "    .dataframe tbody tr th:only-of-type {\n",
       "        vertical-align: middle;\n",
       "    }\n",
       "\n",
       "    .dataframe tbody tr th {\n",
       "        vertical-align: top;\n",
       "    }\n",
       "\n",
       "    .dataframe thead th {\n",
       "        text-align: right;\n",
       "    }\n",
       "</style>\n",
       "<table border=\"1\" class=\"dataframe\">\n",
       "  <thead>\n",
       "    <tr style=\"text-align: right;\">\n",
       "      <th></th>\n",
       "      <th>Unnamed: 0</th>\n",
       "      <th>Player</th>\n",
       "      <th>Team</th>\n",
       "      <th>Age</th>\n",
       "      <th>Height</th>\n",
       "      <th>Weight</th>\n",
       "      <th>GP</th>\n",
       "      <th>Injury Status</th>\n",
       "      <th>MP</th>\n",
       "      <th>Pos</th>\n",
       "    </tr>\n",
       "  </thead>\n",
       "  <tbody>\n",
       "    <tr>\n",
       "      <th>0</th>\n",
       "      <td>0</td>\n",
       "      <td>Aaron Gordon</td>\n",
       "      <td>ORL</td>\n",
       "      <td>23.0</td>\n",
       "      <td>6.75</td>\n",
       "      <td>220.0</td>\n",
       "      <td>78.0</td>\n",
       "      <td>Injured</td>\n",
       "      <td>32.9</td>\n",
       "      <td>PF</td>\n",
       "    </tr>\n",
       "    <tr>\n",
       "      <th>2</th>\n",
       "      <td>2</td>\n",
       "      <td>Abdel Nader</td>\n",
       "      <td>OKC</td>\n",
       "      <td>25.0</td>\n",
       "      <td>6.50</td>\n",
       "      <td>225.0</td>\n",
       "      <td>61.0</td>\n",
       "      <td>Not Injured</td>\n",
       "      <td>10.9</td>\n",
       "      <td>SF</td>\n",
       "    </tr>\n",
       "    <tr>\n",
       "      <th>3</th>\n",
       "      <td>3</td>\n",
       "      <td>Al Horford</td>\n",
       "      <td>BOS</td>\n",
       "      <td>33.0</td>\n",
       "      <td>6.83</td>\n",
       "      <td>245.0</td>\n",
       "      <td>68.0</td>\n",
       "      <td>Injured</td>\n",
       "      <td>31.6</td>\n",
       "      <td>C</td>\n",
       "    </tr>\n",
       "    <tr>\n",
       "      <th>4</th>\n",
       "      <td>4</td>\n",
       "      <td>Al-Farouq Aminu</td>\n",
       "      <td>POR</td>\n",
       "      <td>28.0</td>\n",
       "      <td>6.75</td>\n",
       "      <td>220.0</td>\n",
       "      <td>81.0</td>\n",
       "      <td>Not Injured</td>\n",
       "      <td>30.0</td>\n",
       "      <td>PF</td>\n",
       "    </tr>\n",
       "    <tr>\n",
       "      <th>5</th>\n",
       "      <td>5</td>\n",
       "      <td>Alan Williams</td>\n",
       "      <td>BKN</td>\n",
       "      <td>26.0</td>\n",
       "      <td>6.67</td>\n",
       "      <td>265.0</td>\n",
       "      <td>5.0</td>\n",
       "      <td>Injured</td>\n",
       "      <td>14.0</td>\n",
       "      <td>PF</td>\n",
       "    </tr>\n",
       "  </tbody>\n",
       "</table>\n",
       "</div>"
      ],
      "text/plain": [
       "   Unnamed: 0           Player Team   Age  Height  Weight    GP Injury Status  \\\n",
       "0           0     Aaron Gordon  ORL  23.0    6.75   220.0  78.0       Injured   \n",
       "2           2      Abdel Nader  OKC  25.0    6.50   225.0  61.0   Not Injured   \n",
       "3           3       Al Horford  BOS  33.0    6.83   245.0  68.0       Injured   \n",
       "4           4  Al-Farouq Aminu  POR  28.0    6.75   220.0  81.0   Not Injured   \n",
       "5           5    Alan Williams  BKN  26.0    6.67   265.0   5.0       Injured   \n",
       "\n",
       "     MP Pos  \n",
       "0  32.9  PF  \n",
       "2  10.9  SF  \n",
       "3  31.6   C  \n",
       "4  30.0  PF  \n",
       "5  14.0  PF  "
      ]
     },
     "execution_count": 2,
     "metadata": {},
     "output_type": "execute_result"
    }
   ],
   "source": [
    "#Logistic Regression\n",
    "NBA_data = pd.read_csv('Final-DataFrames/Final_Injury.csv')\n",
    "\n",
    "# NBA columns \n",
    "NBA_model = NBA_data.dropna()\n",
    "NBA_model.head()"
   ]
  },
  {
   "cell_type": "code",
   "execution_count": null,
   "metadata": {},
   "outputs": [],
   "source": []
  },
  {
   "cell_type": "code",
   "execution_count": 3,
   "metadata": {},
   "outputs": [
    {
     "data": {
      "text/html": [
       "<div>\n",
       "<style scoped>\n",
       "    .dataframe tbody tr th:only-of-type {\n",
       "        vertical-align: middle;\n",
       "    }\n",
       "\n",
       "    .dataframe tbody tr th {\n",
       "        vertical-align: top;\n",
       "    }\n",
       "\n",
       "    .dataframe thead th {\n",
       "        text-align: right;\n",
       "    }\n",
       "</style>\n",
       "<table border=\"1\" class=\"dataframe\">\n",
       "  <thead>\n",
       "    <tr style=\"text-align: right;\">\n",
       "      <th></th>\n",
       "      <th>Player</th>\n",
       "      <th>Team</th>\n",
       "      <th>Age</th>\n",
       "      <th>Height</th>\n",
       "      <th>Weight</th>\n",
       "      <th>GP</th>\n",
       "      <th>Injury Status_Injured</th>\n",
       "      <th>MP</th>\n",
       "      <th>BMI</th>\n",
       "    </tr>\n",
       "  </thead>\n",
       "  <tbody>\n",
       "    <tr>\n",
       "      <th>0</th>\n",
       "      <td>Aaron Gordon</td>\n",
       "      <td>ORL</td>\n",
       "      <td>23.0</td>\n",
       "      <td>6.75</td>\n",
       "      <td>220.0</td>\n",
       "      <td>78.0</td>\n",
       "      <td>1</td>\n",
       "      <td>32.9</td>\n",
       "      <td>23.572626</td>\n",
       "    </tr>\n",
       "    <tr>\n",
       "      <th>2</th>\n",
       "      <td>Abdel Nader</td>\n",
       "      <td>OKC</td>\n",
       "      <td>25.0</td>\n",
       "      <td>6.50</td>\n",
       "      <td>225.0</td>\n",
       "      <td>61.0</td>\n",
       "      <td>0</td>\n",
       "      <td>10.9</td>\n",
       "      <td>25.998521</td>\n",
       "    </tr>\n",
       "    <tr>\n",
       "      <th>3</th>\n",
       "      <td>Al Horford</td>\n",
       "      <td>BOS</td>\n",
       "      <td>33.0</td>\n",
       "      <td>6.83</td>\n",
       "      <td>245.0</td>\n",
       "      <td>68.0</td>\n",
       "      <td>1</td>\n",
       "      <td>31.6</td>\n",
       "      <td>25.639970</td>\n",
       "    </tr>\n",
       "    <tr>\n",
       "      <th>4</th>\n",
       "      <td>Al-Farouq Aminu</td>\n",
       "      <td>POR</td>\n",
       "      <td>28.0</td>\n",
       "      <td>6.75</td>\n",
       "      <td>220.0</td>\n",
       "      <td>81.0</td>\n",
       "      <td>0</td>\n",
       "      <td>30.0</td>\n",
       "      <td>23.572626</td>\n",
       "    </tr>\n",
       "    <tr>\n",
       "      <th>5</th>\n",
       "      <td>Alan Williams</td>\n",
       "      <td>BKN</td>\n",
       "      <td>26.0</td>\n",
       "      <td>6.67</td>\n",
       "      <td>265.0</td>\n",
       "      <td>5.0</td>\n",
       "      <td>1</td>\n",
       "      <td>14.0</td>\n",
       "      <td>29.079507</td>\n",
       "    </tr>\n",
       "  </tbody>\n",
       "</table>\n",
       "</div>"
      ],
      "text/plain": [
       "            Player Team   Age  Height  Weight    GP  Injury Status_Injured  \\\n",
       "0     Aaron Gordon  ORL  23.0    6.75   220.0  78.0                      1   \n",
       "2      Abdel Nader  OKC  25.0    6.50   225.0  61.0                      0   \n",
       "3       Al Horford  BOS  33.0    6.83   245.0  68.0                      1   \n",
       "4  Al-Farouq Aminu  POR  28.0    6.75   220.0  81.0                      0   \n",
       "5    Alan Williams  BKN  26.0    6.67   265.0   5.0                      1   \n",
       "\n",
       "     MP        BMI  \n",
       "0  32.9  23.572626  \n",
       "2  10.9  25.998521  \n",
       "3  31.6  25.639970  \n",
       "4  30.0  23.572626  \n",
       "5  14.0  29.079507  "
      ]
     },
     "execution_count": 3,
     "metadata": {},
     "output_type": "execute_result"
    }
   ],
   "source": [
    "# 1 = injured\n",
    "# 0 = not injured\n",
    "Encoded_df = pd.get_dummies(NBA_model, columns=['Injury Status'])[['Player', 'Team', 'Age', 'Height', 'Weight','GP', 'Injury Status_Injured','MP']]\n",
    "Encoded_df['BMI'] = (Encoded_df['Weight'] / ((Encoded_df['Height'] * 12 )** 2)) * 703\n",
    "Encoded_df.head()"
   ]
  },
  {
   "cell_type": "code",
   "execution_count": null,
   "metadata": {},
   "outputs": [],
   "source": []
  },
  {
   "cell_type": "markdown",
   "metadata": {},
   "source": [
    "## Import Our Model Functions From Our Python File"
   ]
  },
  {
   "cell_type": "code",
   "execution_count": 4,
   "metadata": {},
   "outputs": [],
   "source": [
    "from function import train_test, logistic_model, knn_model, random_for"
   ]
  },
  {
   "cell_type": "markdown",
   "metadata": {},
   "source": [
    "## Create Train and Test Variables Based On The DataFrame and Columns of Interest"
   ]
  },
  {
   "cell_type": "code",
   "execution_count": 5,
   "metadata": {},
   "outputs": [],
   "source": [
    "columns = ['Age', 'Height', 'Weight','GP', 'MP', 'BMI']\n",
    "X_tn, X_tt, y_tn, y_tt = train_test(Encoded_df, columns)"
   ]
  },
  {
   "cell_type": "code",
   "execution_count": null,
   "metadata": {},
   "outputs": [],
   "source": []
  },
  {
   "cell_type": "markdown",
   "metadata": {},
   "source": [
    "# Create Logistic Model"
   ]
  },
  {
   "cell_type": "code",
   "execution_count": 6,
   "metadata": {},
   "outputs": [
    {
     "name": "stdout",
     "output_type": "stream",
     "text": [
      "LogisticRegression(C=1.0, class_weight=None, dual=False, fit_intercept=True,\n",
      "          intercept_scaling=1, max_iter=100, multi_class='ovr', n_jobs=1,\n",
      "          penalty='l2', random_state=None, solver='liblinear', tol=0.0001,\n",
      "          verbose=0, warm_start=False)\n",
      "---------------------------------\n",
      "X_test Prediction: \n",
      "---------------------------------\n",
      "[0 1 1 1 1 1 1 1 1 1 1 0 1 1 1 1 1 1 1 1 1 1 1 1 0 1 1 1 1 1 1 1 1 0 1 0 0\n",
      " 1 1 1 0 0 1 1 1 1 1 1 1 1 1 1 1 1 1 0 0 1 1 1 1 0 0 0 1 1 0 0 0 1 1 1 0 1\n",
      " 1 1 1 1 1 1 1 0 0 1 0 1 1 1 1 0 1 1 1 1 1 0 1 1]\n",
      "---------------------------------\n",
      "Training Data Score: 0.6438356164383562\n",
      "Testing Data Score: 0.7040816326530612\n"
     ]
    },
    {
     "data": {
      "text/plain": [
       "(0.6438356164383562, 0.7040816326530612)"
      ]
     },
     "execution_count": 6,
     "metadata": {},
     "output_type": "execute_result"
    }
   ],
   "source": [
    "logistic_model(X_tn, X_tt, y_tn, y_tt)"
   ]
  },
  {
   "cell_type": "code",
   "execution_count": null,
   "metadata": {},
   "outputs": [],
   "source": []
  },
  {
   "cell_type": "markdown",
   "metadata": {},
   "source": [
    "# Create Knn Model"
   ]
  },
  {
   "cell_type": "code",
   "execution_count": 7,
   "metadata": {},
   "outputs": [
    {
     "name": "stdout",
     "output_type": "stream",
     "text": [
      "k: 1, Train/Test Score: 1.000/0.663\n",
      "k: 3, Train/Test Score: 0.767/0.673\n",
      "k: 5, Train/Test Score: 0.688/0.622\n",
      "k: 7, Train/Test Score: 0.678/0.582\n",
      "k: 9, Train/Test Score: 0.623/0.633\n",
      "k: 11, Train/Test Score: 0.634/0.633\n",
      "k: 13, Train/Test Score: 0.634/0.673\n",
      "k: 15, Train/Test Score: 0.664/0.673\n",
      "k: 17, Train/Test Score: 0.637/0.694\n",
      "k: 19, Train/Test Score: 0.610/0.714\n",
      "k: 21, Train/Test Score: 0.623/0.684\n",
      "k: 23, Train/Test Score: 0.613/0.684\n",
      "k: 25, Train/Test Score: 0.613/0.643\n",
      "k: 27, Train/Test Score: 0.613/0.684\n",
      "k: 29, Train/Test Score: 0.603/0.694\n",
      "k: 31, Train/Test Score: 0.589/0.724\n",
      "k: 33, Train/Test Score: 0.592/0.735\n",
      "k: 35, Train/Test Score: 0.589/0.704\n",
      "k: 37, Train/Test Score: 0.592/0.714\n",
      "k: 39, Train/Test Score: 0.586/0.704\n",
      "k: 41, Train/Test Score: 0.596/0.714\n",
      "k: 43, Train/Test Score: 0.579/0.745\n",
      "k: 45, Train/Test Score: 0.592/0.714\n",
      "k: 47, Train/Test Score: 0.586/0.724\n",
      "k: 49, Train/Test Score: 0.582/0.694\n"
     ]
    },
    {
     "data": {
      "image/png": "[encoded data removed]",
      "text/plain": [
       "<Figure size 432x288 with 1 Axes>"
      ]
     },
     "metadata": {
      "needs_background": "light"
     },
     "output_type": "display_data"
    },
    {
     "name": "stdout",
     "output_type": "stream",
     "text": [
      "------------------------------------\n",
      "k: 23, Train/Test Score: 0.613/0.684\n",
      "-------------------------------------\n",
      "Confusion Matrix: \n",
      "[[ 0 29]\n",
      " [ 0 69]]\n",
      "-------------------------------------\n",
      "F1 Score: \n",
      "0.8263473053892215\n",
      "-------------------------------------\n",
      "Accuracy Score: \n",
      "0.7040816326530612\n"
     ]
    }
   ],
   "source": [
    "knn_model(X_tn, X_tt, y_tn, y_tt, 23)"
   ]
  },
  {
   "cell_type": "code",
   "execution_count": null,
   "metadata": {},
   "outputs": [],
   "source": []
  },
  {
   "cell_type": "markdown",
   "metadata": {},
   "source": [
    "# Create Random Forest Model"
   ]
  },
  {
   "cell_type": "code",
   "execution_count": 8,
   "metadata": {},
   "outputs": [
    {
     "name": "stdout",
     "output_type": "stream",
     "text": [
      "Number of Predictions: 98\n",
      "-------------------------------------\n",
      "Predicted as injured:\n",
      "(54, 7)\n",
      "Predicted as not injured\n",
      "(44, 7)\n"
     ]
    }
   ],
   "source": [
    "random_for(X_tn, X_tt, y_tn, y_tt, Encoded_df)"
   ]
  },
  {
   "cell_type": "code",
   "execution_count": null,
   "metadata": {},
   "outputs": [],
   "source": []
  },
  {
   "cell_type": "code",
   "execution_count": null,
   "metadata": {},
   "outputs": [],
   "source": []
  },
  {
   "cell_type": "code",
   "execution_count": 9,
   "metadata": {},
   "outputs": [
    {
     "name": "stdout",
     "output_type": "stream",
     "text": [
      "LogisticRegression(C=1.0, class_weight=None, dual=False, fit_intercept=True,\n",
      "          intercept_scaling=1, max_iter=100, multi_class='ovr', n_jobs=1,\n",
      "          penalty='l2', random_state=None, solver='liblinear', tol=0.0001,\n",
      "          verbose=0, warm_start=False)\n",
      "---------------------------------\n",
      "X_test Prediction: \n",
      "---------------------------------\n",
      "[1 1 1 1 1 0 1 1 1 1 0 1 1 0 1 1 1 1 1 1 1 1 1 1 1 1 1 1 1 0 0 1 1 1 1 1 1\n",
      " 1 1 1 1 1 1 1 1 1 0 1 1 1 1 1 1 1 1 1 1 1 0 1 0 1 1 1 1 1 1 1 1 0 1 1 1 1\n",
      " 1 1 0 1 1 1 1 1 1 1 1 1 1 1 1 1 0 1 1 1 1 1 1 1]\n",
      "---------------------------------\n",
      "Training Data Score: 0.6643835616438356\n",
      "Testing Data Score: 0.6020408163265306\n",
      "LogisticRegression(C=1.0, class_weight=None, dual=False, fit_intercept=True,\n",
      "          intercept_scaling=1, max_iter=100, multi_class='ovr', n_jobs=1,\n",
      "          penalty='l2', random_state=None, solver='liblinear', tol=0.0001,\n",
      "          verbose=0, warm_start=False)\n",
      "---------------------------------\n",
      "X_test Prediction: \n",
      "---------------------------------\n",
      "[1 1 1 0 1 1 1 0 1 1 1 1 1 1 1 1 1 1 1 1 1 1 0 1 0 0 0 1 1 0 0 1 0 1 1 1 1\n",
      " 1 1 1 1 1 1 1 0 1 0 1 1 1 1 1 1 1 1 1 1 1 1 1 1 1 1 1 1 1 1 1 0 1 1 0 1 1\n",
      " 1 1 1 1 0 1 1 0 1 1 1 1 0 1 1 1 1 1 1 1 1 0 1 1]\n",
      "---------------------------------\n",
      "Training Data Score: 0.660958904109589\n",
      "Testing Data Score: 0.6836734693877551\n",
      "LogisticRegression(C=1.0, class_weight=None, dual=False, fit_intercept=True,\n",
      "          intercept_scaling=1, max_iter=100, multi_class='ovr', n_jobs=1,\n",
      "          penalty='l2', random_state=None, solver='liblinear', tol=0.0001,\n",
      "          verbose=0, warm_start=False)\n",
      "---------------------------------\n",
      "X_test Prediction: \n",
      "---------------------------------\n",
      "[1 0 1 1 1 1 1 0 0 1 1 1 1 1 1 0 1 0 1 1 0 1 1 1 0 1 1 0 1 1 1 0 1 1 1 1 1\n",
      " 1 1 1 1 1 1 1 1 1 1 1 1 1 1 1 1 1 1 0 1 1 1 1 1 1 1 1 1 1 1 1 0 0 1 1 1 1\n",
      " 1 1 1 0 0 1 1 1 1 1 1 1 1 1 1 1 1 1 1 1 1 1 1 1]\n",
      "---------------------------------\n",
      "Training Data Score: 0.6575342465753424\n",
      "Testing Data Score: 0.6428571428571429\n",
      "LogisticRegression(C=1.0, class_weight=None, dual=False, fit_intercept=True,\n",
      "          intercept_scaling=1, max_iter=100, multi_class='ovr', n_jobs=1,\n",
      "          penalty='l2', random_state=None, solver='liblinear', tol=0.0001,\n",
      "          verbose=0, warm_start=False)\n",
      "---------------------------------\n",
      "X_test Prediction: \n",
      "---------------------------------\n",
      "[1 1 1 1 0 1 1 1 1 1 1 1 1 1 1 1 1 1 1 1 1 1 1 1 1 1 1 1 1 1 1 1 0 1 1 0 1\n",
      " 1 1 1 1 1 1 1 1 1 0 1 1 1 1 1 0 1 1 1 1 1 1 1 1 1 1 1 1 1 1 1 1 1 1 1 1 1\n",
      " 0 1 1 1 1 1 1 1 1 1 1 1 1 1 1 1 1 1 1 1 1 1 1 1]\n",
      "---------------------------------\n",
      "Training Data Score: 0.660958904109589\n",
      "Testing Data Score: 0.6122448979591837\n",
      "LogisticRegression(C=1.0, class_weight=None, dual=False, fit_intercept=True,\n",
      "          intercept_scaling=1, max_iter=100, multi_class='ovr', n_jobs=1,\n",
      "          penalty='l2', random_state=None, solver='liblinear', tol=0.0001,\n",
      "          verbose=0, warm_start=False)\n",
      "---------------------------------\n",
      "X_test Prediction: \n",
      "---------------------------------\n",
      "[1 1 1 1 1 1 1 1 1 1 1 1 1 1 1 0 1 1 1 1 1 1 0 1 1 1 1 1 1 1 1 1 1 1 1 1 1\n",
      " 1 1 0 1 1 1 1 1 0 1 1 1 1 1 1 1 1 1 1 1 0 1 1 1 1 1 0 1 1 1 1 1 1 0 1 1 1\n",
      " 0 1 1 1 1 1 1 1 0 1 1 1 1 1 1 1 0 1 1 1 1 1 0 1]\n",
      "---------------------------------\n",
      "Training Data Score: 0.6541095890410958\n",
      "Testing Data Score: 0.6836734693877551\n",
      "LogisticRegression(C=1.0, class_weight=None, dual=False, fit_intercept=True,\n",
      "          intercept_scaling=1, max_iter=100, multi_class='ovr', n_jobs=1,\n",
      "          penalty='l2', random_state=None, solver='liblinear', tol=0.0001,\n",
      "          verbose=0, warm_start=False)\n",
      "---------------------------------\n",
      "X_test Prediction: \n",
      "---------------------------------\n",
      "[1 1 1 1 1 1 1 1 1 0 1 0 1 0 0 1 1 1 1 1 1 1 1 1 1 1 1 0 0 1 1 1 1 1 1 1 1\n",
      " 0 0 1 1 1 1 1 1 1 1 1 0 1 1 0 1 1 1 1 1 1 1 1 0 1 0 1 1 0 1 1 1 1 1 1 0 1\n",
      " 0 1 1 0 1 1 1 1 0 1 1 1 1 1 1 1 1 1 1 0 1 1 1 1]\n",
      "---------------------------------\n",
      "Training Data Score: 0.6506849315068494\n",
      "Testing Data Score: 0.6428571428571429\n",
      "LogisticRegression(C=1.0, class_weight=None, dual=False, fit_intercept=True,\n",
      "          intercept_scaling=1, max_iter=100, multi_class='ovr', n_jobs=1,\n",
      "          penalty='l2', random_state=None, solver='liblinear', tol=0.0001,\n",
      "          verbose=0, warm_start=False)\n",
      "---------------------------------\n",
      "X_test Prediction: \n",
      "---------------------------------\n",
      "[0 0 1 1 1 1 1 1 1 1 1 1 1 1 1 1 1 1 1 1 1 1 1 1 1 1 1 1 0 1 1 1 1 1 1 1 1\n",
      " 1 1 1 1 0 1 1 1 1 1 1 1 1 1 0 0 1 1 1 1 1 1 1 1 0 1 0 0 1 1 1 1 1 1 0 1 1\n",
      " 1 1 1 1 0 1 0 1 1 1 1 0 1 0 1 1 1 0 1 1 1 1 0 0]\n",
      "---------------------------------\n",
      "Training Data Score: 0.6404109589041096\n",
      "Testing Data Score: 0.6938775510204082\n",
      "LogisticRegression(C=1.0, class_weight=None, dual=False, fit_intercept=True,\n",
      "          intercept_scaling=1, max_iter=100, multi_class='ovr', n_jobs=1,\n",
      "          penalty='l2', random_state=None, solver='liblinear', tol=0.0001,\n",
      "          verbose=0, warm_start=False)\n",
      "---------------------------------\n",
      "X_test Prediction: \n",
      "---------------------------------\n",
      "[1 1 0 1 1 1 1 1 1 1 1 1 1 1 1 1 1 1 1 1 1 0 1 1 1 1 1 1 1 0 0 1 1 1 1 1 1\n",
      " 1 1 1 1 1 0 1 0 1 1 1 1 1 1 1 0 1 1 1 1 1 1 1 0 1 1 1 1 1 1 1 0 1 1 0 1 1\n",
      " 1 1 0 1 1 1 1 1 0 1 1 1 1 1 1 1 1 1 1 1 1 0 1 1]\n",
      "---------------------------------\n",
      "Training Data Score: 0.6575342465753424\n",
      "Testing Data Score: 0.6530612244897959\n",
      "LogisticRegression(C=1.0, class_weight=None, dual=False, fit_intercept=True,\n",
      "          intercept_scaling=1, max_iter=100, multi_class='ovr', n_jobs=1,\n",
      "          penalty='l2', random_state=None, solver='liblinear', tol=0.0001,\n",
      "          verbose=0, warm_start=False)\n",
      "---------------------------------\n",
      "X_test Prediction: \n",
      "---------------------------------\n",
      "[0 1 1 1 1 1 1 1 1 1 1 1 1 1 1 1 1 1 1 1 1 1 1 1 1 1 1 1 1 0 1 1 0 1 1 1 1\n",
      " 1 1 1 1 1 1 0 1 1 1 1 0 1 1 0 1 1 1 1 0 1 1 1 1 1 1 0 1 1 1 1 1 1 1 1 1 1\n",
      " 1 1 1 1 1 1 1 1 1 1 1 1 1 1 1 1 1 1 1 1 1 1 1 1]\n",
      "---------------------------------\n",
      "Training Data Score: 0.6335616438356164\n",
      "Testing Data Score: 0.6530612244897959\n"
     ]
    }
   ],
   "source": [
    "trn_scores = []\n",
    "tst_scores = []\n",
    "\n",
    "for i in range(1, 10):\n",
    "    X_tn, X_tt, y_tn, y_tt = train_test(Encoded_df, columns)\n",
    "    trn, tst = logistic_model(X_tn, X_tt, y_tn, y_tt)\n",
    "    trn_scores.append(trn)\n",
    "    tst_scores.append(tst)"
   ]
  },
  {
   "cell_type": "code",
   "execution_count": null,
   "metadata": {},
   "outputs": [],
   "source": []
  },
  {
   "cell_type": "code",
   "execution_count": 10,
   "metadata": {},
   "outputs": [
    {
     "name": "stdout",
     "output_type": "stream",
     "text": [
      "The Mean of our list of test scores is 0.6519274376417233\n",
      "The Standard Deviation of our list of test scores is 0.031634481696833784\n"
     ]
    }
   ],
   "source": [
    "import statistics\n",
    "print(f'The Mean of our list of test scores is {statistics.mean(tst_scores)}')\n",
    "print(f'The Standard Deviation of our list of test scores is {statistics.stdev(tst_scores)}')"
   ]
  },
  {
   "cell_type": "code",
   "execution_count": null,
   "metadata": {},
   "outputs": [],
   "source": []
  }
 ],
 "metadata": {
  "kernelspec": {
   "display_name": "Python 3",
   "language": "python",
   "name": "python3"
  },
  "language_info": {
   "codemirror_mode": {
    "name": "ipython",
    "version": 3
   },
   "file_extension": ".py",
   "mimetype": "text/x-python",
   "name": "python",
   "nbconvert_exporter": "python",
   "pygments_lexer": "ipython3",
   "version": "3.7.0"
  }
 },
 "nbformat": 4,
 "nbformat_minor": 2
}
