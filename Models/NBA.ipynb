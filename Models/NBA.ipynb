{
 "cells": [
  {
   "cell_type": "code",
   "execution_count": 1,
   "metadata": {},
   "outputs": [
    {
     "name": "stderr",
     "output_type": "stream",
     "text": [
      "C:\\Users\\ulyss\\Anaconda3\\lib\\site-packages\\sklearn\\ensemble\\weight_boosting.py:29: DeprecationWarning: numpy.core.umath_tests is an internal NumPy module and should not be imported. It will be removed in a future NumPy release.\n",
      "  from numpy.core.umath_tests import inner1d\n"
     ]
    }
   ],
   "source": [
    "%matplotlib inline\n",
    "import matplotlib.pyplot as plt\n",
    "import numpy as np\n",
    "import pandas as pd\n",
    "import warnings\n",
    "warnings.filterwarnings('ignore')\n",
    "\n",
    "from sklearn.linear_model import LogisticRegression\n",
    "from sklearn.model_selection import train_test_split\n",
    "from sklearn.preprocessing import StandardScaler\n",
    "from sklearn.neighbors import KNeighborsClassifier\n",
    "from sklearn.metrics import confusion_matrix\n",
    "from sklearn.metrics import f1_score\n",
    "from sklearn.metrics import accuracy_score\n",
    "\n",
    "\n",
    "\n",
    "\n",
    "from sklearn.model_selection import KFold, cross_val_score\n",
    "from sklearn.model_selection import train_test_split, GridSearchCV\n",
    "\n",
    "from sklearn.ensemble import RandomForestClassifier\n",
    "import math"
   ]
  },
  {
   "cell_type": "code",
   "execution_count": null,
   "metadata": {},
   "outputs": [],
   "source": []
  },
  {
   "cell_type": "code",
   "execution_count": 2,
   "metadata": {},
   "outputs": [
    {
     "data": {
      "text/html": [
       "<div>\n",
       "<style scoped>\n",
       "    .dataframe tbody tr th:only-of-type {\n",
       "        vertical-align: middle;\n",
       "    }\n",
       "\n",
       "    .dataframe tbody tr th {\n",
       "        vertical-align: top;\n",
       "    }\n",
       "\n",
       "    .dataframe thead th {\n",
       "        text-align: right;\n",
       "    }\n",
       "</style>\n",
       "<table border=\"1\" class=\"dataframe\">\n",
       "  <thead>\n",
       "    <tr style=\"text-align: right;\">\n",
       "      <th></th>\n",
       "      <th>Unnamed: 0</th>\n",
       "      <th>Player</th>\n",
       "      <th>Team</th>\n",
       "      <th>Age</th>\n",
       "      <th>Height</th>\n",
       "      <th>Weight</th>\n",
       "      <th>GP</th>\n",
       "      <th>Injury Status</th>\n",
       "      <th>MP</th>\n",
       "      <th>Pos</th>\n",
       "    </tr>\n",
       "  </thead>\n",
       "  <tbody>\n",
       "    <tr>\n",
       "      <th>0</th>\n",
       "      <td>0</td>\n",
       "      <td>Aaron Gordon</td>\n",
       "      <td>ORL</td>\n",
       "      <td>23.0</td>\n",
       "      <td>6.75</td>\n",
       "      <td>220.0</td>\n",
       "      <td>78.0</td>\n",
       "      <td>Injured</td>\n",
       "      <td>32.9</td>\n",
       "      <td>PF</td>\n",
       "    </tr>\n",
       "    <tr>\n",
       "      <th>2</th>\n",
       "      <td>2</td>\n",
       "      <td>Abdel Nader</td>\n",
       "      <td>OKC</td>\n",
       "      <td>25.0</td>\n",
       "      <td>6.50</td>\n",
       "      <td>225.0</td>\n",
       "      <td>61.0</td>\n",
       "      <td>Not Injured</td>\n",
       "      <td>10.9</td>\n",
       "      <td>SF</td>\n",
       "    </tr>\n",
       "    <tr>\n",
       "      <th>3</th>\n",
       "      <td>3</td>\n",
       "      <td>Al Horford</td>\n",
       "      <td>BOS</td>\n",
       "      <td>33.0</td>\n",
       "      <td>6.83</td>\n",
       "      <td>245.0</td>\n",
       "      <td>68.0</td>\n",
       "      <td>Injured</td>\n",
       "      <td>31.6</td>\n",
       "      <td>C</td>\n",
       "    </tr>\n",
       "    <tr>\n",
       "      <th>4</th>\n",
       "      <td>4</td>\n",
       "      <td>Al-Farouq Aminu</td>\n",
       "      <td>POR</td>\n",
       "      <td>28.0</td>\n",
       "      <td>6.75</td>\n",
       "      <td>220.0</td>\n",
       "      <td>81.0</td>\n",
       "      <td>Not Injured</td>\n",
       "      <td>30.0</td>\n",
       "      <td>PF</td>\n",
       "    </tr>\n",
       "    <tr>\n",
       "      <th>5</th>\n",
       "      <td>5</td>\n",
       "      <td>Alan Williams</td>\n",
       "      <td>BKN</td>\n",
       "      <td>26.0</td>\n",
       "      <td>6.67</td>\n",
       "      <td>265.0</td>\n",
       "      <td>5.0</td>\n",
       "      <td>Injured</td>\n",
       "      <td>14.0</td>\n",
       "      <td>PF</td>\n",
       "    </tr>\n",
       "  </tbody>\n",
       "</table>\n",
       "</div>"
      ],
      "text/plain": [
       "   Unnamed: 0           Player Team   Age  Height  Weight    GP Injury Status  \\\n",
       "0           0     Aaron Gordon  ORL  23.0    6.75   220.0  78.0       Injured   \n",
       "2           2      Abdel Nader  OKC  25.0    6.50   225.0  61.0   Not Injured   \n",
       "3           3       Al Horford  BOS  33.0    6.83   245.0  68.0       Injured   \n",
       "4           4  Al-Farouq Aminu  POR  28.0    6.75   220.0  81.0   Not Injured   \n",
       "5           5    Alan Williams  BKN  26.0    6.67   265.0   5.0       Injured   \n",
       "\n",
       "     MP Pos  \n",
       "0  32.9  PF  \n",
       "2  10.9  SF  \n",
       "3  31.6   C  \n",
       "4  30.0  PF  \n",
       "5  14.0  PF  "
      ]
     },
     "execution_count": 2,
     "metadata": {},
     "output_type": "execute_result"
    }
   ],
   "source": [
    "#Logistic Regression\n",
    "NBA_data = pd.read_csv('Final-DataFrames/Final_Injury.csv')\n",
    "\n",
    "# NBA columns \n",
    "NBA_model = NBA_data.dropna()\n",
    "NBA_model.head()"
   ]
  },
  {
   "cell_type": "code",
   "execution_count": null,
   "metadata": {},
   "outputs": [],
   "source": []
  },
  {
   "cell_type": "code",
   "execution_count": 3,
   "metadata": {},
   "outputs": [
    {
     "data": {
      "text/html": [
       "<div>\n",
       "<style scoped>\n",
       "    .dataframe tbody tr th:only-of-type {\n",
       "        vertical-align: middle;\n",
       "    }\n",
       "\n",
       "    .dataframe tbody tr th {\n",
       "        vertical-align: top;\n",
       "    }\n",
       "\n",
       "    .dataframe thead th {\n",
       "        text-align: right;\n",
       "    }\n",
       "</style>\n",
       "<table border=\"1\" class=\"dataframe\">\n",
       "  <thead>\n",
       "    <tr style=\"text-align: right;\">\n",
       "      <th></th>\n",
       "      <th>Player</th>\n",
       "      <th>Team</th>\n",
       "      <th>Age</th>\n",
       "      <th>Height</th>\n",
       "      <th>Weight</th>\n",
       "      <th>GP</th>\n",
       "      <th>Injury Status_Injured</th>\n",
       "      <th>MP</th>\n",
       "    </tr>\n",
       "  </thead>\n",
       "  <tbody>\n",
       "    <tr>\n",
       "      <th>0</th>\n",
       "      <td>Aaron Gordon</td>\n",
       "      <td>ORL</td>\n",
       "      <td>23.0</td>\n",
       "      <td>6.75</td>\n",
       "      <td>220.0</td>\n",
       "      <td>78.0</td>\n",
       "      <td>1</td>\n",
       "      <td>32.9</td>\n",
       "    </tr>\n",
       "    <tr>\n",
       "      <th>2</th>\n",
       "      <td>Abdel Nader</td>\n",
       "      <td>OKC</td>\n",
       "      <td>25.0</td>\n",
       "      <td>6.50</td>\n",
       "      <td>225.0</td>\n",
       "      <td>61.0</td>\n",
       "      <td>0</td>\n",
       "      <td>10.9</td>\n",
       "    </tr>\n",
       "    <tr>\n",
       "      <th>3</th>\n",
       "      <td>Al Horford</td>\n",
       "      <td>BOS</td>\n",
       "      <td>33.0</td>\n",
       "      <td>6.83</td>\n",
       "      <td>245.0</td>\n",
       "      <td>68.0</td>\n",
       "      <td>1</td>\n",
       "      <td>31.6</td>\n",
       "    </tr>\n",
       "    <tr>\n",
       "      <th>4</th>\n",
       "      <td>Al-Farouq Aminu</td>\n",
       "      <td>POR</td>\n",
       "      <td>28.0</td>\n",
       "      <td>6.75</td>\n",
       "      <td>220.0</td>\n",
       "      <td>81.0</td>\n",
       "      <td>0</td>\n",
       "      <td>30.0</td>\n",
       "    </tr>\n",
       "    <tr>\n",
       "      <th>5</th>\n",
       "      <td>Alan Williams</td>\n",
       "      <td>BKN</td>\n",
       "      <td>26.0</td>\n",
       "      <td>6.67</td>\n",
       "      <td>265.0</td>\n",
       "      <td>5.0</td>\n",
       "      <td>1</td>\n",
       "      <td>14.0</td>\n",
       "    </tr>\n",
       "  </tbody>\n",
       "</table>\n",
       "</div>"
      ],
      "text/plain": [
       "            Player Team   Age  Height  Weight    GP  Injury Status_Injured  \\\n",
       "0     Aaron Gordon  ORL  23.0    6.75   220.0  78.0                      1   \n",
       "2      Abdel Nader  OKC  25.0    6.50   225.0  61.0                      0   \n",
       "3       Al Horford  BOS  33.0    6.83   245.0  68.0                      1   \n",
       "4  Al-Farouq Aminu  POR  28.0    6.75   220.0  81.0                      0   \n",
       "5    Alan Williams  BKN  26.0    6.67   265.0   5.0                      1   \n",
       "\n",
       "     MP  \n",
       "0  32.9  \n",
       "2  10.9  \n",
       "3  31.6  \n",
       "4  30.0  \n",
       "5  14.0  "
      ]
     },
     "execution_count": 3,
     "metadata": {},
     "output_type": "execute_result"
    }
   ],
   "source": [
    "# 1 = injured\n",
    "# 0 = not injured\n",
    "Encoded_df = pd.get_dummies(NBA_model, columns=['Injury Status'])[['Player', 'Team', 'Age', 'Height', 'Weight','GP', 'Injury Status_Injured','MP']]\n",
    "Encoded_df.head()"
   ]
  },
  {
   "cell_type": "code",
   "execution_count": null,
   "metadata": {},
   "outputs": [],
   "source": []
  },
  {
   "cell_type": "markdown",
   "metadata": {},
   "source": [
    "## Import Our Model Functions From Our Python File"
   ]
  },
  {
   "cell_type": "code",
   "execution_count": 5,
   "metadata": {},
   "outputs": [],
   "source": [
    "from function import train_test, logistic_model, knn_model"
   ]
  },
  {
   "cell_type": "markdown",
   "metadata": {},
   "source": [
    "## Create Train and Test Variables Based On The DataFrame and Columns of Interest"
   ]
  },
  {
   "cell_type": "code",
   "execution_count": 6,
   "metadata": {},
   "outputs": [],
   "source": [
    "columns = ['Age', 'Height', 'Weight','GP', 'MP']\n",
    "X_tn, X_tt, y_tn, y_tt = train_test(Encoded_df, columns)"
   ]
  },
  {
   "cell_type": "code",
   "execution_count": 7,
   "metadata": {},
   "outputs": [],
   "source": []
  },
  {
   "cell_type": "markdown",
   "metadata": {},
   "source": [
    "# Create Logistic Model"
   ]
  },
  {
   "cell_type": "code",
   "execution_count": 8,
   "metadata": {},
   "outputs": [
    {
     "name": "stdout",
     "output_type": "stream",
     "text": [
      "LogisticRegression(C=1.0, class_weight=None, dual=False, fit_intercept=True,\n",
      "          intercept_scaling=1, max_iter=100, multi_class='ovr', n_jobs=1,\n",
      "          penalty='l2', random_state=None, solver='liblinear', tol=0.0001,\n",
      "          verbose=0, warm_start=False)\n",
      "---------------------------------\n",
      "X_test Prediction: \n",
      "---------------------------------\n",
      "[1 1 1 0 1 1 1 1 1 1 1 1 1 1 0 0 1 0 1 1 1 1 1 1 1 1 1 1 1 1 1 1 1 1 0 1 1\n",
      " 1 1 1 1 1 1 1 0 1 1 1 0 1 1 1 1 1 1 1 1 1 1 1 1 0 1 1 1 0 1 1 0 1 1 1 1 1\n",
      " 1 1 0 1 1 1 1 1 1 1 1 0 1 1 1 1 1 1 1 1 1 1 1 1]\n",
      "---------------------------------\n",
      "Training Data Score: 0.6541095890410958\n",
      "Testing Data Score: 0.6428571428571429\n"
     ]
    }
   ],
   "source": [
    "logistic_model(X_tn, X_tt, y_tn, y_tt)"
   ]
  },
  {
   "cell_type": "code",
   "execution_count": null,
   "metadata": {},
   "outputs": [],
   "source": []
  },
  {
   "cell_type": "markdown",
   "metadata": {},
   "source": [
    "# Create Knn Model"
   ]
  },
  {
   "cell_type": "code",
   "execution_count": 9,
   "metadata": {},
   "outputs": [
    {
     "name": "stdout",
     "output_type": "stream",
     "text": [
      "k: 1, Train/Test Score: 1.000/0.633\n",
      "k: 3, Train/Test Score: 0.815/0.561\n",
      "k: 5, Train/Test Score: 0.709/0.582\n",
      "k: 7, Train/Test Score: 0.661/0.561\n",
      "k: 9, Train/Test Score: 0.675/0.571\n",
      "k: 11, Train/Test Score: 0.664/0.592\n",
      "k: 13, Train/Test Score: 0.671/0.592\n",
      "k: 15, Train/Test Score: 0.654/0.602\n",
      "k: 17, Train/Test Score: 0.644/0.602\n",
      "k: 19, Train/Test Score: 0.647/0.602\n",
      "k: 21, Train/Test Score: 0.644/0.592\n",
      "k: 23, Train/Test Score: 0.637/0.612\n",
      "k: 25, Train/Test Score: 0.637/0.602\n",
      "k: 27, Train/Test Score: 0.651/0.582\n",
      "k: 29, Train/Test Score: 0.640/0.561\n",
      "k: 31, Train/Test Score: 0.640/0.561\n",
      "k: 33, Train/Test Score: 0.634/0.571\n",
      "k: 35, Train/Test Score: 0.644/0.571\n",
      "k: 37, Train/Test Score: 0.640/0.561\n",
      "k: 39, Train/Test Score: 0.640/0.571\n",
      "k: 41, Train/Test Score: 0.637/0.571\n",
      "k: 43, Train/Test Score: 0.634/0.571\n",
      "k: 45, Train/Test Score: 0.630/0.582\n",
      "k: 47, Train/Test Score: 0.630/0.582\n",
      "k: 49, Train/Test Score: 0.640/0.582\n"
     ]
    },
    {
     "data": {
      "image/png": "[encoded data removed]",
      "text/plain": [
       "<Figure size 432x288 with 1 Axes>"
      ]
     },
     "metadata": {
      "needs_background": "light"
     },
     "output_type": "display_data"
    },
    {
     "name": "stdout",
     "output_type": "stream",
     "text": [
      "------------------------------------\n",
      "k: 17, Train/Test Score: 0.637/0.571\n",
      "-------------------------------------\n",
      "Confusion Matrix: \n",
      "[[ 0 41]\n",
      " [ 0 57]]\n",
      "-------------------------------------\n",
      "F1 Score: \n",
      "0.7354838709677418\n",
      "-------------------------------------\n",
      "Accuracy Score: \n",
      "0.5816326530612245\n"
     ]
    }
   ],
   "source": [
    "knn_model(X_tn, X_tt, y_tn, y_tt)"
   ]
  },
  {
   "cell_type": "code",
   "execution_count": null,
   "metadata": {},
   "outputs": [],
   "source": []
  },
  {
   "cell_type": "code",
   "execution_count": null,
   "metadata": {},
   "outputs": [],
   "source": []
  }
 ],
 "metadata": {
  "kernelspec": {
   "display_name": "Python 3",
   "language": "python",
   "name": "python3"
  },
  "language_info": {
   "codemirror_mode": {
    "name": "ipython",
    "version": 3
   },
   "file_extension": ".py",
   "mimetype": "text/x-python",
   "name": "python",
   "nbconvert_exporter": "python",
   "pygments_lexer": "ipython3",
   "version": "3.7.0"
  }
 },
 "nbformat": 4,
 "nbformat_minor": 2
}
